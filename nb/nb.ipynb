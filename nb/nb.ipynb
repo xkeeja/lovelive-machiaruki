{
 "cells": [
  {
   "attachments": {},
   "cell_type": "markdown",
   "metadata": {},
   "source": [
    "# Install geotable, GDAL\n",
    "\n",
    "```\n",
    "$ brew install gdal libkml\n",
    "$ pip install GDAL geotable\n",
    "```"
   ]
  },
  {
   "attachments": {},
   "cell_type": "markdown",
   "metadata": {},
   "source": [
    "# Data download"
   ]
  },
  {
   "attachments": {},
   "cell_type": "markdown",
   "metadata": {},
   "source": [
    "[Map](https://www.google.com/maps/d/u/0/viewer?mid=1hQhJDhsE87Iu9BJOln-EnveGbow&ll=35.07345181763887%2C138.8560247350858&z=12)\n",
    "\n",
    "[KML Download](https://www.google.com/maps/d/u/0/kml?forcekml=1&mid=1hQhJDhsE87Iu9BJOln-EnveGbow&lid=Cs8qfjzbvoQ)"
   ]
  },
  {
   "cell_type": "code",
   "execution_count": 1,
   "metadata": {},
   "outputs": [
    {
     "name": "stdout",
     "output_type": "stream",
     "text": [
      "--2023-04-12 12:04:06--  https://www.google.com/maps/d/u/0/kml?forcekml=1&mid=1hQhJDhsE87Iu9BJOln-EnveGbow&lid=Cs8qfjzbvoQ\n",
      "Resolving www.google.com (www.google.com)... 142.251.42.132\n",
      "Connecting to www.google.com (www.google.com)|142.251.42.132|:443... connected.\n",
      "HTTP request sent, awaiting response... 302 Found\n",
      "Location: https://www.google.com/maps/d/kml?forcekml=1&mid=1hQhJDhsE87Iu9BJOln-EnveGbow&lid=Cs8qfjzbvoQ [following]\n",
      "--2023-04-12 12:04:06--  https://www.google.com/maps/d/kml?forcekml=1&mid=1hQhJDhsE87Iu9BJOln-EnveGbow&lid=Cs8qfjzbvoQ\n",
      "Reusing existing connection to www.google.com:443.\n",
      "HTTP request sent, awaiting response... 200 OK\n",
      "Length: unspecified [text/xml]\n",
      "Saving to: ‘STDOUT’\n",
      "\n",
      "-                       [ <=>                ] 253.98K  --.-KB/s    in 0.06s   \n",
      "\n",
      "2023-04-12 12:04:06 (3.86 MB/s) - written to stdout [260077]\n",
      "\n"
     ]
    }
   ],
   "source": [
    "!wget -cO - 'https://www.google.com/maps/d/u/0/kml?forcekml=1&mid=1hQhJDhsE87Iu9BJOln-EnveGbow&lid=Cs8qfjzbvoQ' > ../data/machiaruki.kml"
   ]
  },
  {
   "attachments": {},
   "cell_type": "markdown",
   "metadata": {},
   "source": [
    "# Geotable"
   ]
  },
  {
   "cell_type": "code",
   "execution_count": 2,
   "metadata": {},
   "outputs": [],
   "source": [
    "import os\n",
    "import geotable"
   ]
  },
  {
   "cell_type": "code",
   "execution_count": 4,
   "metadata": {},
   "outputs": [
    {
     "data": {
      "text/html": [
       "<div>\n",
       "<style scoped>\n",
       "    .dataframe tbody tr th:only-of-type {\n",
       "        vertical-align: middle;\n",
       "    }\n",
       "\n",
       "    .dataframe tbody tr th {\n",
       "        vertical-align: top;\n",
       "    }\n",
       "\n",
       "    .dataframe thead th {\n",
       "        text-align: right;\n",
       "    }\n",
       "</style>\n",
       "<table border=\"1\" class=\"dataframe\">\n",
       "  <thead>\n",
       "    <tr style=\"text-align: right;\">\n",
       "      <th></th>\n",
       "      <th>Name</th>\n",
       "      <th>Description</th>\n",
       "      <th>geometry_object</th>\n",
       "      <th>geometry_layer</th>\n",
       "      <th>geometry_proj4</th>\n",
       "    </tr>\n",
       "  </thead>\n",
       "  <tbody>\n",
       "    <tr>\n",
       "      <th>0</th>\n",
       "      <td>ゲーマーズ沼津店</td>\n",
       "      <td>&lt;img src=\"https://doc-00-9o-mymaps.googleuserc...</td>\n",
       "      <td>POINT Z (138.856807 35.10157 0)</td>\n",
       "      <td>沼津まちあるきスタンプ　設置店舗</td>\n",
       "      <td>+proj=longlat +datum=WGS84 +no_defs</td>\n",
       "    </tr>\n",
       "    <tr>\n",
       "      <th>1</th>\n",
       "      <td>安田屋旅館</td>\n",
       "      <td>&lt;img src=\"https://doc-0c-9o-mymaps.googleuserc...</td>\n",
       "      <td>POINT Z (138.897573 35.020424 0)</td>\n",
       "      <td>沼津まちあるきスタンプ　設置店舗</td>\n",
       "      <td>+proj=longlat +datum=WGS84 +no_defs</td>\n",
       "    </tr>\n",
       "    <tr>\n",
       "      <th>2</th>\n",
       "      <td>和洋菓子松月</td>\n",
       "      <td>&lt;img src=\"https://doc-14-9o-mymaps.googleuserc...</td>\n",
       "      <td>POINT Z (138.897925 35.022259 0)</td>\n",
       "      <td>沼津まちあるきスタンプ　設置店舗</td>\n",
       "      <td>+proj=longlat +datum=WGS84 +no_defs</td>\n",
       "    </tr>\n",
       "    <tr>\n",
       "      <th>3</th>\n",
       "      <td>SUN!SUN!サンシャインCAFE</td>\n",
       "      <td>&lt;img src=\"https://doc-0g-9o-mymaps.googleuserc...</td>\n",
       "      <td>POINT Z (138.8597404 35.1019932 0)</td>\n",
       "      <td>沼津まちあるきスタンプ　設置店舗</td>\n",
       "      <td>+proj=longlat +datum=WGS84 +no_defs</td>\n",
       "    </tr>\n",
       "    <tr>\n",
       "      <th>4</th>\n",
       "      <td>オーシャン ビュー フジミ</td>\n",
       "      <td>&lt;img src=\"https://doc-10-9o-mymaps.googleuserc...</td>\n",
       "      <td>POINT Z (138.7858531 35.0249211 0)</td>\n",
       "      <td>沼津まちあるきスタンプ　設置店舗</td>\n",
       "      <td>+proj=longlat +datum=WGS84 +no_defs</td>\n",
       "    </tr>\n",
       "    <tr>\n",
       "      <th>...</th>\n",
       "      <td>...</td>\n",
       "      <td>...</td>\n",
       "      <td>...</td>\n",
       "      <td>...</td>\n",
       "      <td>...</td>\n",
       "    </tr>\n",
       "    <tr>\n",
       "      <th>112</th>\n",
       "      <td>グランマ シーサイド店</td>\n",
       "      <td>&lt;img src=\"https://doc-0c-9o-mymaps.googleuserc...</td>\n",
       "      <td>POINT Z (138.8860146 35.0481496 0)</td>\n",
       "      <td>沼津まちあるきスタンプ　設置店舗</td>\n",
       "      <td>+proj=longlat +datum=WGS84 +no_defs</td>\n",
       "    </tr>\n",
       "    <tr>\n",
       "      <th>113</th>\n",
       "      <td>テレビのイマイ</td>\n",
       "      <td>&lt;img src=\"https://doc-14-9o-mymaps.googleuserc...</td>\n",
       "      <td>POINT Z (138.8578183 35.0986286 0)</td>\n",
       "      <td>沼津まちあるきスタンプ　設置店舗</td>\n",
       "      <td>+proj=longlat +datum=WGS84 +no_defs</td>\n",
       "    </tr>\n",
       "    <tr>\n",
       "      <th>114</th>\n",
       "      <td>戸田観光協会</td>\n",
       "      <td>&lt;img src=\"https://doc-0s-9o-mymaps.googleuserc...</td>\n",
       "      <td>POINT Z (138.7772204 34.9729703 0)</td>\n",
       "      <td>沼津まちあるきスタンプ　設置店舗</td>\n",
       "      <td>+proj=longlat +datum=WGS84 +no_defs</td>\n",
       "    </tr>\n",
       "    <tr>\n",
       "      <th>115</th>\n",
       "      <td>モスバーガーららぽーと沼津店</td>\n",
       "      <td>&lt;img src=\"https://doc-14-9o-mymaps.googleuserc...</td>\n",
       "      <td>POINT Z (138.8419064 35.1204196 0)</td>\n",
       "      <td>沼津まちあるきスタンプ　設置店舗</td>\n",
       "      <td>+proj=longlat +datum=WGS84 +no_defs</td>\n",
       "    </tr>\n",
       "    <tr>\n",
       "      <th>116</th>\n",
       "      <td>オフィスグルー</td>\n",
       "      <td>&lt;img src=\"https://doc-0o-9o-mymaps.googleuserc...</td>\n",
       "      <td>POINT Z (138.8317579 35.1151152 0)</td>\n",
       "      <td>沼津まちあるきスタンプ　設置店舗</td>\n",
       "      <td>+proj=longlat +datum=WGS84 +no_defs</td>\n",
       "    </tr>\n",
       "  </tbody>\n",
       "</table>\n",
       "<p>117 rows × 5 columns</p>\n",
       "</div>"
      ],
      "text/plain": [
       "                   Name                                        Description   \n",
       "0              ゲーマーズ沼津店  <img src=\"https://doc-00-9o-mymaps.googleuserc...  \\\n",
       "1                 安田屋旅館  <img src=\"https://doc-0c-9o-mymaps.googleuserc...   \n",
       "2                和洋菓子松月  <img src=\"https://doc-14-9o-mymaps.googleuserc...   \n",
       "3    SUN!SUN!サンシャインCAFE  <img src=\"https://doc-0g-9o-mymaps.googleuserc...   \n",
       "4         オーシャン ビュー フジミ  <img src=\"https://doc-10-9o-mymaps.googleuserc...   \n",
       "..                  ...                                                ...   \n",
       "112         グランマ シーサイド店  <img src=\"https://doc-0c-9o-mymaps.googleuserc...   \n",
       "113             テレビのイマイ  <img src=\"https://doc-14-9o-mymaps.googleuserc...   \n",
       "114              戸田観光協会  <img src=\"https://doc-0s-9o-mymaps.googleuserc...   \n",
       "115      モスバーガーららぽーと沼津店  <img src=\"https://doc-14-9o-mymaps.googleuserc...   \n",
       "116             オフィスグルー  <img src=\"https://doc-0o-9o-mymaps.googleuserc...   \n",
       "\n",
       "                        geometry_object    geometry_layer   \n",
       "0       POINT Z (138.856807 35.10157 0)  沼津まちあるきスタンプ　設置店舗  \\\n",
       "1      POINT Z (138.897573 35.020424 0)  沼津まちあるきスタンプ　設置店舗   \n",
       "2      POINT Z (138.897925 35.022259 0)  沼津まちあるきスタンプ　設置店舗   \n",
       "3    POINT Z (138.8597404 35.1019932 0)  沼津まちあるきスタンプ　設置店舗   \n",
       "4    POINT Z (138.7858531 35.0249211 0)  沼津まちあるきスタンプ　設置店舗   \n",
       "..                                  ...               ...   \n",
       "112  POINT Z (138.8860146 35.0481496 0)  沼津まちあるきスタンプ　設置店舗   \n",
       "113  POINT Z (138.8578183 35.0986286 0)  沼津まちあるきスタンプ　設置店舗   \n",
       "114  POINT Z (138.7772204 34.9729703 0)  沼津まちあるきスタンプ　設置店舗   \n",
       "115  POINT Z (138.8419064 35.1204196 0)  沼津まちあるきスタンプ　設置店舗   \n",
       "116  POINT Z (138.8317579 35.1151152 0)  沼津まちあるきスタンプ　設置店舗   \n",
       "\n",
       "                          geometry_proj4  \n",
       "0    +proj=longlat +datum=WGS84 +no_defs  \n",
       "1    +proj=longlat +datum=WGS84 +no_defs  \n",
       "2    +proj=longlat +datum=WGS84 +no_defs  \n",
       "3    +proj=longlat +datum=WGS84 +no_defs  \n",
       "4    +proj=longlat +datum=WGS84 +no_defs  \n",
       "..                                   ...  \n",
       "112  +proj=longlat +datum=WGS84 +no_defs  \n",
       "113  +proj=longlat +datum=WGS84 +no_defs  \n",
       "114  +proj=longlat +datum=WGS84 +no_defs  \n",
       "115  +proj=longlat +datum=WGS84 +no_defs  \n",
       "116  +proj=longlat +datum=WGS84 +no_defs  \n",
       "\n",
       "[117 rows x 5 columns]"
      ]
     },
     "execution_count": 4,
     "metadata": {},
     "output_type": "execute_result"
    }
   ],
   "source": [
    "data_kml = os.path.join(os.path.abspath('..'), 'data/machiaruki.kml')\n",
    "t = geotable.load(data_kml)\n",
    "t"
   ]
  },
  {
   "attachments": {},
   "cell_type": "markdown",
   "metadata": {},
   "source": [
    "# Data Cleaning"
   ]
  },
  {
   "cell_type": "code",
   "execution_count": 19,
   "metadata": {},
   "outputs": [],
   "source": [
    "import re"
   ]
  },
  {
   "cell_type": "code",
   "execution_count": 53,
   "metadata": {},
   "outputs": [
    {
     "data": {
      "text/plain": [
       "'<img src=\"https://doc-0c-9o-mymaps.googleusercontent.com/untrusted/hostedimage/o2fbn585vcrt3ao71o6a0j9c34/ikokqal8f3bnmv3esa0cq1pg14/1681268400000/hzzDqczHXdAc-TMWLZLAFJCdFFMq9JPf/*/6ACtvi-GhsasAW8bo5W4pd2R04ZUzGztcLqjlGm4Q2ReKfBInEaz15SHcOeAXpkP4Ojy3sDWCtEfRE2jq2bK12UK9-kfAq5wTVxwHEmAjFwmfprs5LGDA3BjL4Pa7UBpdJvhUYhbzFbVSZ7zTlBpew1crJ47R18HHRINT8EEzEpEOXubdMmG1gjTJrqissFTC?fife\" height=\"200\" width=\"auto\" /><br><br>メンバー／高海千歌<br>住所／沼津市大手町1-1-3\\u3000沼津商連ビル1F<br>営業時間／平日\\u30009:30～18:00<br>土曜日\\u30009:30～17:00<br>定休日／日曜日・木曜日・祝日・12/30～1/3<br>※スタンプは東海バストラベル沼津駅前案内所に設置してあります。'"
      ]
     },
     "execution_count": 53,
     "metadata": {},
     "output_type": "execute_result"
    }
   ],
   "source": [
    "i = t.Description[20]\n",
    "i"
   ]
  },
  {
   "cell_type": "code",
   "execution_count": 54,
   "metadata": {},
   "outputs": [
    {
     "data": {
      "text/plain": [
       "['https://doc-0c-9o-mymaps.googleusercontent.com/untrusted/hostedimage/o2fbn585vcrt3ao71o6a0j9c34/ikokqal8f3bnmv3esa0cq1pg14/1681268400000/hzzDqczHXdAc-TMWLZLAFJCdFFMq9JPf/*/6ACtvi-GhsasAW8bo5W4pd2R04ZUzGztcLqjlGm4Q2ReKfBInEaz15SHcOeAXpkP4Ojy3sDWCtEfRE2jq2bK12UK9-kfAq5wTVxwHEmAjFwmfprs5LGDA3BjL4Pa7UBpdJvhUYhbzFbVSZ7zTlBpew1crJ47R18HHRINT8EEzEpEOXubdMmG1gjTJrqissFTC?fife']"
      ]
     },
     "execution_count": 54,
     "metadata": {},
     "output_type": "execute_result"
    }
   ],
   "source": [
    "re.findall('img src=\"(.*?)\"', i)"
   ]
  },
  {
   "cell_type": "code",
   "execution_count": 60,
   "metadata": {},
   "outputs": [
    {
     "data": {
      "text/plain": [
       "['高海千歌']"
      ]
     },
     "execution_count": 60,
     "metadata": {},
     "output_type": "execute_result"
    }
   ],
   "source": [
    "re.findall('メンバー／(.*)<br>住', i)"
   ]
  },
  {
   "cell_type": "code",
   "execution_count": 61,
   "metadata": {},
   "outputs": [
    {
     "data": {
      "text/plain": [
       "['沼津市大手町1-1-3\\u3000沼津商連ビル1F']"
      ]
     },
     "execution_count": 61,
     "metadata": {},
     "output_type": "execute_result"
    }
   ],
   "source": [
    "re.findall('住所／(.*)<br>営', i)"
   ]
  },
  {
   "cell_type": "code",
   "execution_count": 64,
   "metadata": {},
   "outputs": [
    {
     "data": {
      "text/plain": [
       "['平日\\u30009:30～18:00<br>土曜日\\u30009:30～17:00']"
      ]
     },
     "execution_count": 64,
     "metadata": {},
     "output_type": "execute_result"
    }
   ],
   "source": [
    "re.findall('営業時間／(.*)<br>定', i)"
   ]
  },
  {
   "cell_type": "code",
   "execution_count": 66,
   "metadata": {},
   "outputs": [
    {
     "data": {
      "text/plain": [
       "['日曜日・木曜日・祝日・12/30～1/3<br>※スタンプは東海バストラベル沼津駅前案内所に設置してあります。']"
      ]
     },
     "execution_count": 66,
     "metadata": {},
     "output_type": "execute_result"
    }
   ],
   "source": [
    "re.findall('定休日／(.*)', i)"
   ]
  },
  {
   "cell_type": "code",
   "execution_count": 59,
   "metadata": {},
   "outputs": [
    {
     "data": {
      "text/plain": [
       "'<img src=\"https://doc-0c-9o-mymaps.googleusercontent.com/untrusted/hostedimage/o2fbn585vcrt3ao71o6a0j9c34/4om9bq99b0i0nh8jbd684tcuec/1681268400000/hzzDqczHXdAc-TMWLZLAFJCdFFMq9JPf/*/6ACtvi-Fuhzfw5sUcNYPBzmdHht1zeh3dVlHm7xXSokm8YAz5_iCmF1asNWVnzJoqiy9mOXUmSDqC0cd4991MKIwpCZOqGskp4fc3Ou8pWkSCYwPrXxrSpFUkJ43NZEVXiA1nqkCKA4wRvP_VbmJ-WYFnvMiQqYp6Juq8-nW-w8Vxc8PlUcxb9VlnwIkiJAZ_?fife\" height=\"200\" width=\"auto\" /><br><br>メンバー／高海千歌<br>住所／沼津市内浦三津19<br>営業時間／12:00～20:00<br>定休日／不定休'"
      ]
     },
     "execution_count": 59,
     "metadata": {},
     "output_type": "execute_result"
    }
   ],
   "source": [
    "t.Description[1]"
   ]
  }
 ],
 "metadata": {
  "kernelspec": {
   "display_name": "machiaruki",
   "language": "python",
   "name": "python3"
  },
  "language_info": {
   "codemirror_mode": {
    "name": "ipython",
    "version": 3
   },
   "file_extension": ".py",
   "mimetype": "text/x-python",
   "name": "python",
   "nbconvert_exporter": "python",
   "pygments_lexer": "ipython3",
   "version": "3.10.6"
  },
  "orig_nbformat": 4
 },
 "nbformat": 4,
 "nbformat_minor": 2
}
