{
 "cells": [
  {
   "attachments": {},
   "cell_type": "markdown",
   "metadata": {},
   "source": [
    "# Install geotable, GDAL\n",
    "\n",
    "```\n",
    "$ brew install gdal libkml\n",
    "$ pip install GDAL geotable\n",
    "```"
   ]
  },
  {
   "attachments": {},
   "cell_type": "markdown",
   "metadata": {},
   "source": [
    "# Data download"
   ]
  },
  {
   "attachments": {},
   "cell_type": "markdown",
   "metadata": {},
   "source": [
    "[Map](https://www.google.com/maps/d/u/0/viewer?mid=1hQhJDhsE87Iu9BJOln-EnveGbow&ll=35.07345181763887%2C138.8560247350858&z=12)\n",
    "\n",
    "[KML Download](https://www.google.com/maps/d/u/0/kml?forcekml=1&mid=1hQhJDhsE87Iu9BJOln-EnveGbow&lid=Cs8qfjzbvoQ)"
   ]
  },
  {
   "cell_type": "code",
   "execution_count": 92,
   "metadata": {},
   "outputs": [],
   "source": [
    "!cp ~/Downloads/沼津まちあるきスタンプ\\　設置店舗.kml ~/code/xkeeja/lovelive-machiaruki/data/machiaruki.kml"
   ]
  },
  {
   "attachments": {},
   "cell_type": "markdown",
   "metadata": {},
   "source": [
    "# Geotable"
   ]
  },
  {
   "cell_type": "code",
   "execution_count": 79,
   "metadata": {},
   "outputs": [],
   "source": [
    "import os\n",
    "import geotable\n",
    "import requests"
   ]
  },
  {
   "cell_type": "code",
   "execution_count": 86,
   "metadata": {},
   "outputs": [
    {
     "data": {
      "text/plain": [
       "'/Users/rkb/code/xkeeja/lovelive-machiaruki/data/machiaruki.kml'"
      ]
     },
     "execution_count": 86,
     "metadata": {},
     "output_type": "execute_result"
    }
   ],
   "source": [
    "data_kml = os.path.join(os.path.abspath('..'), 'data/machiaruki.kml')\n",
    "data_kml"
   ]
  },
  {
   "cell_type": "code",
   "execution_count": 96,
   "metadata": {},
   "outputs": [
    {
     "data": {
      "text/html": [
       "<div>\n",
       "<style scoped>\n",
       "    .dataframe tbody tr th:only-of-type {\n",
       "        vertical-align: middle;\n",
       "    }\n",
       "\n",
       "    .dataframe tbody tr th {\n",
       "        vertical-align: top;\n",
       "    }\n",
       "\n",
       "    .dataframe thead th {\n",
       "        text-align: right;\n",
       "    }\n",
       "</style>\n",
       "<table border=\"1\" class=\"dataframe\">\n",
       "  <thead>\n",
       "    <tr style=\"text-align: right;\">\n",
       "      <th></th>\n",
       "      <th>Name</th>\n",
       "      <th>Description</th>\n",
       "      <th>geometry_object</th>\n",
       "      <th>geometry_layer</th>\n",
       "      <th>geometry_proj4</th>\n",
       "    </tr>\n",
       "  </thead>\n",
       "  <tbody>\n",
       "    <tr>\n",
       "      <th>0</th>\n",
       "      <td>ゲーマーズ沼津店</td>\n",
       "      <td>&lt;img src=\"https://doc-14-4g-mymaps.googleuserc...</td>\n",
       "      <td>POINT Z (138.856807 35.10157 0)</td>\n",
       "      <td>沼津まちあるきスタンプ　設置店舗</td>\n",
       "      <td>+proj=longlat +datum=WGS84 +no_defs</td>\n",
       "    </tr>\n",
       "    <tr>\n",
       "      <th>1</th>\n",
       "      <td>安田屋旅館</td>\n",
       "      <td>&lt;img src=\"https://doc-08-4g-mymaps.googleuserc...</td>\n",
       "      <td>POINT Z (138.897573 35.020424 0)</td>\n",
       "      <td>沼津まちあるきスタンプ　設置店舗</td>\n",
       "      <td>+proj=longlat +datum=WGS84 +no_defs</td>\n",
       "    </tr>\n",
       "    <tr>\n",
       "      <th>2</th>\n",
       "      <td>和洋菓子松月</td>\n",
       "      <td>&lt;img src=\"https://doc-14-4g-mymaps.googleuserc...</td>\n",
       "      <td>POINT Z (138.897925 35.022259 0)</td>\n",
       "      <td>沼津まちあるきスタンプ　設置店舗</td>\n",
       "      <td>+proj=longlat +datum=WGS84 +no_defs</td>\n",
       "    </tr>\n",
       "    <tr>\n",
       "      <th>3</th>\n",
       "      <td>SUN!SUN!サンシャインCAFE</td>\n",
       "      <td>&lt;img src=\"https://doc-0s-4g-mymaps.googleuserc...</td>\n",
       "      <td>POINT Z (138.8597404 35.1019932 0)</td>\n",
       "      <td>沼津まちあるきスタンプ　設置店舗</td>\n",
       "      <td>+proj=longlat +datum=WGS84 +no_defs</td>\n",
       "    </tr>\n",
       "    <tr>\n",
       "      <th>4</th>\n",
       "      <td>オーシャン ビュー フジミ</td>\n",
       "      <td>&lt;img src=\"https://doc-0o-4g-mymaps.googleuserc...</td>\n",
       "      <td>POINT Z (138.7858531 35.0249211 0)</td>\n",
       "      <td>沼津まちあるきスタンプ　設置店舗</td>\n",
       "      <td>+proj=longlat +datum=WGS84 +no_defs</td>\n",
       "    </tr>\n",
       "    <tr>\n",
       "      <th>...</th>\n",
       "      <td>...</td>\n",
       "      <td>...</td>\n",
       "      <td>...</td>\n",
       "      <td>...</td>\n",
       "      <td>...</td>\n",
       "    </tr>\n",
       "    <tr>\n",
       "      <th>112</th>\n",
       "      <td>グランマ シーサイド店</td>\n",
       "      <td>&lt;img src=\"https://doc-0s-4g-mymaps.googleuserc...</td>\n",
       "      <td>POINT Z (138.8860146 35.0481496 0)</td>\n",
       "      <td>沼津まちあるきスタンプ　設置店舗</td>\n",
       "      <td>+proj=longlat +datum=WGS84 +no_defs</td>\n",
       "    </tr>\n",
       "    <tr>\n",
       "      <th>113</th>\n",
       "      <td>テレビのイマイ</td>\n",
       "      <td>&lt;img src=\"https://doc-0s-4g-mymaps.googleuserc...</td>\n",
       "      <td>POINT Z (138.8578183 35.0986286 0)</td>\n",
       "      <td>沼津まちあるきスタンプ　設置店舗</td>\n",
       "      <td>+proj=longlat +datum=WGS84 +no_defs</td>\n",
       "    </tr>\n",
       "    <tr>\n",
       "      <th>114</th>\n",
       "      <td>戸田観光協会</td>\n",
       "      <td>&lt;img src=\"https://doc-0g-4g-mymaps.googleuserc...</td>\n",
       "      <td>POINT Z (138.7772204 34.9729703 0)</td>\n",
       "      <td>沼津まちあるきスタンプ　設置店舗</td>\n",
       "      <td>+proj=longlat +datum=WGS84 +no_defs</td>\n",
       "    </tr>\n",
       "    <tr>\n",
       "      <th>115</th>\n",
       "      <td>モスバーガーららぽーと沼津店</td>\n",
       "      <td>&lt;img src=\"https://doc-14-4g-mymaps.googleuserc...</td>\n",
       "      <td>POINT Z (138.8419064 35.1204196 0)</td>\n",
       "      <td>沼津まちあるきスタンプ　設置店舗</td>\n",
       "      <td>+proj=longlat +datum=WGS84 +no_defs</td>\n",
       "    </tr>\n",
       "    <tr>\n",
       "      <th>116</th>\n",
       "      <td>オフィスグルー</td>\n",
       "      <td>&lt;img src=\"https://doc-0o-4g-mymaps.googleuserc...</td>\n",
       "      <td>POINT Z (138.8317579 35.1151152 0)</td>\n",
       "      <td>沼津まちあるきスタンプ　設置店舗</td>\n",
       "      <td>+proj=longlat +datum=WGS84 +no_defs</td>\n",
       "    </tr>\n",
       "  </tbody>\n",
       "</table>\n",
       "<p>117 rows × 5 columns</p>\n",
       "</div>"
      ],
      "text/plain": [
       "                   Name                                        Description   \n",
       "0              ゲーマーズ沼津店  <img src=\"https://doc-14-4g-mymaps.googleuserc...  \\\n",
       "1                 安田屋旅館  <img src=\"https://doc-08-4g-mymaps.googleuserc...   \n",
       "2                和洋菓子松月  <img src=\"https://doc-14-4g-mymaps.googleuserc...   \n",
       "3    SUN!SUN!サンシャインCAFE  <img src=\"https://doc-0s-4g-mymaps.googleuserc...   \n",
       "4         オーシャン ビュー フジミ  <img src=\"https://doc-0o-4g-mymaps.googleuserc...   \n",
       "..                  ...                                                ...   \n",
       "112         グランマ シーサイド店  <img src=\"https://doc-0s-4g-mymaps.googleuserc...   \n",
       "113             テレビのイマイ  <img src=\"https://doc-0s-4g-mymaps.googleuserc...   \n",
       "114              戸田観光協会  <img src=\"https://doc-0g-4g-mymaps.googleuserc...   \n",
       "115      モスバーガーららぽーと沼津店  <img src=\"https://doc-14-4g-mymaps.googleuserc...   \n",
       "116             オフィスグルー  <img src=\"https://doc-0o-4g-mymaps.googleuserc...   \n",
       "\n",
       "                        geometry_object    geometry_layer   \n",
       "0       POINT Z (138.856807 35.10157 0)  沼津まちあるきスタンプ　設置店舗  \\\n",
       "1      POINT Z (138.897573 35.020424 0)  沼津まちあるきスタンプ　設置店舗   \n",
       "2      POINT Z (138.897925 35.022259 0)  沼津まちあるきスタンプ　設置店舗   \n",
       "3    POINT Z (138.8597404 35.1019932 0)  沼津まちあるきスタンプ　設置店舗   \n",
       "4    POINT Z (138.7858531 35.0249211 0)  沼津まちあるきスタンプ　設置店舗   \n",
       "..                                  ...               ...   \n",
       "112  POINT Z (138.8860146 35.0481496 0)  沼津まちあるきスタンプ　設置店舗   \n",
       "113  POINT Z (138.8578183 35.0986286 0)  沼津まちあるきスタンプ　設置店舗   \n",
       "114  POINT Z (138.7772204 34.9729703 0)  沼津まちあるきスタンプ　設置店舗   \n",
       "115  POINT Z (138.8419064 35.1204196 0)  沼津まちあるきスタンプ　設置店舗   \n",
       "116  POINT Z (138.8317579 35.1151152 0)  沼津まちあるきスタンプ　設置店舗   \n",
       "\n",
       "                          geometry_proj4  \n",
       "0    +proj=longlat +datum=WGS84 +no_defs  \n",
       "1    +proj=longlat +datum=WGS84 +no_defs  \n",
       "2    +proj=longlat +datum=WGS84 +no_defs  \n",
       "3    +proj=longlat +datum=WGS84 +no_defs  \n",
       "4    +proj=longlat +datum=WGS84 +no_defs  \n",
       "..                                   ...  \n",
       "112  +proj=longlat +datum=WGS84 +no_defs  \n",
       "113  +proj=longlat +datum=WGS84 +no_defs  \n",
       "114  +proj=longlat +datum=WGS84 +no_defs  \n",
       "115  +proj=longlat +datum=WGS84 +no_defs  \n",
       "116  +proj=longlat +datum=WGS84 +no_defs  \n",
       "\n",
       "[117 rows x 5 columns]"
      ]
     },
     "execution_count": 96,
     "metadata": {},
     "output_type": "execute_result"
    }
   ],
   "source": [
    "t = geotable.load(data_kml)\n",
    "t"
   ]
  }
 ],
 "metadata": {
  "kernelspec": {
   "display_name": "machiaruki",
   "language": "python",
   "name": "python3"
  },
  "language_info": {
   "codemirror_mode": {
    "name": "ipython",
    "version": 3
   },
   "file_extension": ".py",
   "mimetype": "text/x-python",
   "name": "python",
   "nbconvert_exporter": "python",
   "pygments_lexer": "ipython3",
   "version": "3.10.6"
  },
  "orig_nbformat": 4
 },
 "nbformat": 4,
 "nbformat_minor": 2
}
